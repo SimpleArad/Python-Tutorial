{
 "cells": [
  {
   "cell_type": "markdown",
   "metadata": {},
   "source": [
    "- Numbers: \n",
    "integers: 10, -97, 0804\n",
    "float: 0.2, -21.02\n",
    "\n",
    "- Strings:\n",
    "'Hello World'\n",
    "\"Hello World\"\n",
    "Every characters have a index \n",
    "z.B. \n",
    "character: H e l l o \n",
    "index: 0 1 2 3 4\n",
    "reverse index: 0 -4 -3 -2 -1\n",
    "\n",
    "- Lists:\n",
    "my_list = [1,2,3,4,5]\n",
    "another_lsit = ['Arad',275,29.0]\n",
    "my_list + another_list\n",
    "len(my_list)\n",
    "my_list(0)\n",
    "my_list[1:]\n",
    "my_list[0] = 'Hello'\n",
    "\n",
    "- Tuples:\n",
    "t = (1,2,3)\n",
    "t = ('a','a','a')\n",
    "t.count('a')\n",
    "\n",
    "- Dictionaries:\n",
    "my_dict = {'apple':2.99, 'key2':'value2','key3':[1,2,3]}\n",
    "my_dict['apple']"
   ]
  }
 ],
 "metadata": {
  "kernelspec": {
   "display_name": "Python 3",
   "language": "python",
   "name": "python3"
  },
  "language_info": {
   "codemirror_mode": {
    "name": "ipython",
    "version": 3
   },
   "file_extension": ".py",
   "mimetype": "text/x-python",
   "name": "python",
   "nbconvert_exporter": "python",
   "pygments_lexer": "ipython3",
   "version": "3.7.3"
  }
 },
 "nbformat": 4,
 "nbformat_minor": 2
}

{
 "cells": [
  {
   "cell_type": "code",
   "execution_count": 1,
   "metadata": {},
   "outputs": [],
   "source": [
    "def IsEven(n):\n",
    "    if n % 2 == 0:\n",
    "        return True\n",
    "    else:\n",
    "        return False"
   ]
  },
  {
   "cell_type": "code",
   "execution_count": 8,
   "metadata": {},
   "outputs": [
    {
     "name": "stdout",
     "output_type": "stream",
     "text": [
      "('my first number is', 1)\n",
      "('my first number is', 2)\n",
      "oh es ist ein Gradezahl\n",
      "('----------> Jetzt die summe ist', 2)\n",
      "('my first number is', 3)\n",
      "('my first number is', 5)\n",
      "('my first number is', 8)\n",
      "oh es ist ein Gradezahl\n",
      "('----------> Jetzt die summe ist', 10)\n",
      "('my first number is', 13)\n",
      "('my first number is', 21)\n",
      "('my first number is', 34)\n",
      "oh es ist ein Gradezahl\n",
      "('----------> Jetzt die summe ist', 44)\n",
      "('my first number is', 55)\n",
      "('my first number is', 89)\n",
      "('my first number is', 144)\n",
      "oh es ist ein Gradezahl\n",
      "('----------> Jetzt die summe ist', 188)\n",
      "('my first number is', 233)\n",
      "('my first number is', 377)\n",
      "('my first number is', 610)\n",
      "oh es ist ein Gradezahl\n",
      "('----------> Jetzt die summe ist', 798)\n",
      "('my first number is', 987)\n",
      "('my first number is', 1597)\n",
      "('my first number is', 2584)\n",
      "oh es ist ein Gradezahl\n",
      "('----------> Jetzt die summe ist', 3382)\n",
      "('my first number is', 4181)\n",
      "('my first number is', 6765)\n",
      "('my first number is', 10946)\n",
      "oh es ist ein Gradezahl\n",
      "('----------> Jetzt die summe ist', 14328)\n",
      "('my first number is', 17711)\n",
      "('my first number is', 28657)\n",
      "('my first number is', 46368)\n",
      "oh es ist ein Gradezahl\n",
      "('----------> Jetzt die summe ist', 60696)\n",
      "('my first number is', 75025)\n",
      "('my first number is', 121393)\n",
      "('my first number is', 196418)\n",
      "oh es ist ein Gradezahl\n",
      "('----------> Jetzt die summe ist', 257114)\n",
      "('my first number is', 317811)\n",
      "('my first number is', 514229)\n",
      "('my first number is', 832040)\n",
      "oh es ist ein Gradezahl\n",
      "('----------> Jetzt die summe ist', 1089154)\n",
      "('my first number is', 1346269)\n",
      "('my first number is', 2178309)\n",
      "('my first number is', 3524578)\n",
      "oh es ist ein Gradezahl\n",
      "('----------> Jetzt die summe ist', 4613732)\n",
      "4613732\n"
     ]
    }
   ],
   "source": [
    "first = 1\n",
    "second = 2\n",
    "\n",
    "sum = 0\n",
    "\n",
    "while (first < 4*10**6):\n",
    "    print ('my first number is', first)\n",
    "    if IsEven(first):\n",
    "        print ('oh es ist ein Gradezahl')\n",
    "        sum = sum + first\n",
    "        print ('----------> Jetzt die summe ist', sum)\n",
    "    new = first + second\n",
    "    first = second\n",
    "    second = new\n",
    "    \n",
    "print (sum)"
   ]
  },
  {
   "cell_type": "code",
   "execution_count": null,
   "metadata": {},
   "outputs": [],
   "source": []
  }
 ],
 "metadata": {
  "kernelspec": {
   "display_name": "Python 3",
   "language": "python",
   "name": "python3"
  },
  "language_info": {
   "codemirror_mode": {
    "name": "ipython",
    "version": 2
   },
   "file_extension": ".py",
   "mimetype": "text/x-python",
   "name": "python",
   "nbconvert_exporter": "python",
   "pygments_lexer": "ipython2",
   "version": "2.7.15rc1"
  }
 },
 "nbformat": 4,
 "nbformat_minor": 2
}
